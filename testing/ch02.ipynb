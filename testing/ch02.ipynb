{
 "cells": [
  {
   "cell_type": "code",
   "execution_count": 1,
   "id": "da5ec033",
   "metadata": {},
   "outputs": [],
   "source": [
    "from pyspark.sql import SparkSession\n",
    "import cloudpickle"
   ]
  },
  {
   "cell_type": "code",
   "execution_count": 2,
   "id": "2c78db5a",
   "metadata": {},
   "outputs": [],
   "source": [
    "import os\n",
    "from pyspark.sql import SparkSession\n",
    "\n",
    "# Make Spark listen on the loopback interface\n",
    "os.environ[\"SPARK_LOCAL_IP\"] = \"127.0.0.1\""
   ]
  },
  {
   "cell_type": "code",
   "execution_count": 3,
   "id": "d1a1eb08",
   "metadata": {},
   "outputs": [
    {
     "data": {
      "text/html": [
       "\n",
       "            <div>\n",
       "                <p><b>SparkSession - in-memory</b></p>\n",
       "                \n",
       "        <div>\n",
       "            <p><b>SparkContext</b></p>\n",
       "\n",
       "            <p><a href=\"http://kubernetes.docker.internal:4040\">Spark UI</a></p>\n",
       "\n",
       "            <dl>\n",
       "              <dt>Version</dt>\n",
       "                <dd><code>v3.3.1</code></dd>\n",
       "              <dt>Master</dt>\n",
       "                <dd><code>local</code></dd>\n",
       "              <dt>AppName</dt>\n",
       "                <dd><code>myapp</code></dd>\n",
       "            </dl>\n",
       "        </div>\n",
       "        \n",
       "            </div>\n",
       "        "
      ],
      "text/plain": [
       "<pyspark.sql.session.SparkSession at 0x28801b59100>"
      ]
     },
     "execution_count": 3,
     "metadata": {},
     "output_type": "execute_result"
    }
   ],
   "source": [
    "spark =  SparkSession.builder.master(\"local\").appName(\"myapp\").getOrCreate()\n",
    "spark"
   ]
  },
  {
   "cell_type": "code",
   "execution_count": 4,
   "id": "c4cbf6db",
   "metadata": {},
   "outputs": [],
   "source": [
    "data = [\n",
    "    ('Don', '', 'Turtle', '1991-08-02', 'M', 3000),\n",
    "    ('Michael', 'A', 'Turtle', '1991-08-02', 'M', 4000),\n",
    "    ('Leo', '', 'Turtle', '1991-08-02', 'M', 5000),\n",
    "    ('Raphael', '', 'Turtle', '1991-08-02', 'M', 6000)\n",
    "]\n",
    "\n",
    "columns = [\"firstname\", \"middlename\", \"lastname\", \"dob\", \"gender\", \"salary\"]\n",
    "\n",
    "df = spark.createDataFrame(data = data, schema = columns)"
   ]
  },
  {
   "cell_type": "code",
   "execution_count": 5,
   "id": "fbeedb69",
   "metadata": {},
   "outputs": [
    {
     "name": "stdout",
     "output_type": "stream",
     "text": [
      "driver.host = kubernetes.docker.internal\n"
     ]
    }
   ],
   "source": [
    "print(\"driver.host =\", spark.sparkContext.getConf().get(\"spark.driver.host\"))\n"
   ]
  },
  {
   "cell_type": "markdown",
   "id": "4622a8c1",
   "metadata": {},
   "source": [
    "C:\\Users\\User\\Desktop\\Projects\\Python\\LearningSparkV2\\ch02.ipynb"
   ]
  },
  {
   "cell_type": "code",
   "execution_count": 6,
   "id": "aa64e5fb",
   "metadata": {},
   "outputs": [
    {
     "name": "stdout",
     "output_type": "stream",
     "text": [
      "+---------+----------+--------+----------+------+------+\n",
      "|firstname|middlename|lastname|       dob|gender|salary|\n",
      "+---------+----------+--------+----------+------+------+\n",
      "|      Don|          |  Turtle|1991-08-02|     M|  3000|\n",
      "|  Michael|         A|  Turtle|1991-08-02|     M|  4000|\n",
      "|      Leo|          |  Turtle|1991-08-02|     M|  5000|\n",
      "|  Raphael|          |  Turtle|1991-08-02|     M|  6000|\n",
      "+---------+----------+--------+----------+------+------+\n",
      "\n"
     ]
    }
   ],
   "source": [
    "df.show()"
   ]
  }
 ],
 "metadata": {
  "kernelspec": {
   "display_name": ".venv",
   "language": "python",
   "name": "python3"
  },
  "language_info": {
   "codemirror_mode": {
    "name": "ipython",
    "version": 3
   },
   "file_extension": ".py",
   "mimetype": "text/x-python",
   "name": "python",
   "nbconvert_exporter": "python",
   "pygments_lexer": "ipython3",
   "version": "3.9.13"
  }
 },
 "nbformat": 4,
 "nbformat_minor": 5
}
