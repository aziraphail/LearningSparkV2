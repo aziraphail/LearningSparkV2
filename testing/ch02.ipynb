{
 "cells": [
  {
   "cell_type": "code",
   "execution_count": null,
   "id": "da5ec033",
   "metadata": {},
   "outputs": [],
   "source": [
    "from pyspark.sql import SparkSession\n",
    "import cloudpickle"
   ]
  },
  {
   "cell_type": "code",
   "execution_count": null,
   "id": "2c78db5a",
   "metadata": {},
   "outputs": [],
   "source": [
    "import os\n",
    "from pyspark.sql import SparkSession\n",
    "\n",
    "# Make Spark listen on the loopback interface\n",
    "os.environ[\"SPARK_LOCAL_IP\"] = \"127.0.0.1\""
   ]
  },
  {
   "cell_type": "code",
   "execution_count": null,
   "id": "d1a1eb08",
   "metadata": {},
   "outputs": [],
   "source": [
    "spark =  SparkSession.builder.master(\"local\").appName(\"myapp\").getOrCreate()\n",
    "spark"
   ]
  },
  {
   "cell_type": "code",
   "execution_count": null,
   "id": "c4cbf6db",
   "metadata": {},
   "outputs": [],
   "source": [
    "data = [\n",
    "    ('Don', '', 'Turtle', '1991-08-02', 'M', 3000),\n",
    "    ('Michael', 'A', 'Turtle', '1991-08-02', 'M', 4000),\n",
    "    ('Leo', '', 'Turtle', '1991-08-02', 'M', 5000),\n",
    "    ('Raphael', '', 'Turtle', '1991-08-02', 'M', 6000)\n",
    "]\n",
    "\n",
    "columns = [\"firstname\", \"middlename\", \"lastname\", \"dob\", \"gender\", \"salary\"]\n",
    "\n",
    "df = spark.createDataFrame(data = data, schema = columns)"
   ]
  },
  {
   "cell_type": "code",
   "execution_count": null,
   "id": "fbeedb69",
   "metadata": {},
   "outputs": [],
   "source": [
    "print(\"driver.host =\", spark.sparkContext.getConf().get(\"spark.driver.host\"))\n"
   ]
  },
  {
   "cell_type": "markdown",
   "id": "4622a8c1",
   "metadata": {},
   "source": [
    "C:\\Users\\User\\Desktop\\Projects\\Python\\LearningSparkV2\\ch02.ipynb"
   ]
  },
  {
   "cell_type": "code",
   "execution_count": null,
   "id": "aa64e5fb",
   "metadata": {},
   "outputs": [],
   "source": [
    "df.show()"
   ]
  },
  {
   "cell_type": "code",
   "execution_count": null,
   "id": "6009156d",
   "metadata": {},
   "outputs": [],
   "source": [
    "# spark is an existing SparkSession\n",
    "df = spark.read.json(\"C:/spark/spark-3.3.1-bin-hadoop2/examples/src/main/resources/people.json\")\n",
    "# Displays the content of the DataFrame to stdout\n",
    "df.show()\n",
    "# +----+-------+\n",
    "# | age|   name|\n",
    "# +----+-------+\n",
    "# |null|Michael|\n",
    "# |  30|   Andy|\n",
    "# |  19| Justin|\n",
    "# +----+-------+\n"
   ]
  }
 ],
 "metadata": {
  "kernelspec": {
   "display_name": ".venv",
   "language": "python",
   "name": "python3"
  },
  "language_info": {
   "codemirror_mode": {
    "name": "ipython",
    "version": 3
   },
   "file_extension": ".py",
   "mimetype": "text/x-python",
   "name": "python",
   "nbconvert_exporter": "python",
   "pygments_lexer": "ipython3",
   "version": "3.9.13"
  }
 },
 "nbformat": 4,
 "nbformat_minor": 5
}
